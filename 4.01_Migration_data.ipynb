{
 "cells": [
  {
   "cell_type": "markdown",
   "metadata": {},
   "source": [
    "# International Passenger Survey 4.01, citizenship group by sex by age by country of last or next residence\n",
    "\n",
    "Convert all tabs from latest Excel spreadsheet available from https://www.ons.gov.uk/peoplepopulationandcommunity/populationandmigration/internationalmigration/datasets/ipscitizenshipgroupbysexbyagebycountryoflastornextresidence"
   ]
  },
  {
   "cell_type": "code",
   "execution_count": 1,
   "metadata": {
    "collapsed": true
   },
   "outputs": [],
   "source": [
    "%run lib/scrape_ons.ipynb\n",
    "\n",
    "metadata = scrape('https://www.ons.gov.uk/peoplepopulationandcommunity/populationandmigration/' \\\n",
    "                  'internationalmigration/datasets/ipscitizenshipgroupbysexbyagebycountryoflastornextresidence')"
   ]
  },
  {
   "cell_type": "markdown",
   "metadata": {},
   "source": [
    "Download the spreadsheet and load directly into Pandas."
   ]
  },
  {
   "cell_type": "code",
   "execution_count": 2,
   "metadata": {
    "collapsed": true
   },
   "outputs": [],
   "source": [
    "from databaker.framework import *\n",
    "import pandas as pd\n",
    "\n",
    "xls = pd.ExcelFile(BytesIO(session.get(metadata['fileURL']).content))"
   ]
  },
  {
   "cell_type": "markdown",
   "metadata": {},
   "source": [
    "Now run separate notebooks for each tab in the spreadsheet and collate the results in a single DataFrame."
   ]
  },
  {
   "cell_type": "code",
   "execution_count": 3,
   "metadata": {
    "collapsed": true
   },
   "outputs": [],
   "source": [
    "next_table = pd.DataFrame()"
   ]
  },
  {
   "cell_type": "code",
   "execution_count": 4,
   "metadata": {
    "collapsed": true
   },
   "outputs": [],
   "source": [
    "%%capture\n",
    "%run \"Long-term international migration 4.01A Passenger survey.ipynb\"\n",
    "next_table = pd.concat([next_table, Final_table])\n",
    "\n",
    "%run \"Long-term international migration 4.01B Passenger survey.ipynb\"\n",
    "next_table = pd.concat([next_table, Final_table])\n",
    "\n",
    "%run\"Long-term international migration 4.01C Passenger survey.ipynb\"\n",
    "next_table = pd.concat([next_table, Final_table])\n",
    "\n",
    "%run \"Long-term international migration 4.01D Passenger survey.ipynb\"\n",
    "next_table = pd.concat([next_table, Final_table])"
   ]
  },
  {
   "cell_type": "code",
   "execution_count": 5,
   "metadata": {},
   "outputs": [
    {
     "data": {
      "text/plain": [
       "Geography               53184\n",
       "Year                    53184\n",
       "Country of Residence    53184\n",
       "Migration Flow          53184\n",
       "Citizenship             53184\n",
       "Sex                     53184\n",
       "Age                     53184\n",
       "Measure Type            53184\n",
       "Value                   53184\n",
       "CI                      53184\n",
       "Unit                    53184\n",
       "dtype: int64"
      ]
     },
     "execution_count": 5,
     "metadata": {},
     "output_type": "execute_result"
    }
   ],
   "source": [
    "next_table.count()"
   ]
  },
  {
   "cell_type": "code",
   "execution_count": 6,
   "metadata": {
    "collapsed": true
   },
   "outputs": [],
   "source": [
    "next_table['Citizenship'] = next_table['Citizenship'].str.lstrip('cit ')"
   ]
  },
  {
   "cell_type": "code",
   "execution_count": 7,
   "metadata": {
    "collapsed": true
   },
   "outputs": [],
   "source": [
    "next_table['Age'] = next_table['Age'].replace(to_replace= r\" \", value = \"/\", regex=True)"
   ]
  },
  {
   "cell_type": "code",
   "execution_count": 8,
   "metadata": {
    "collapsed": true
   },
   "outputs": [],
   "source": [
    "next_table['Age'] = next_table['Age'].map(lambda cell: cell.replace('age/all', 'all'))"
   ]
  },
  {
   "cell_type": "code",
   "execution_count": 9,
   "metadata": {
    "collapsed": true
   },
   "outputs": [],
   "source": [
    "next_table['Age'] = next_table['Age'].map(lambda cell: cell.replace('65/plus', '65-plus'))"
   ]
  },
  {
   "cell_type": "code",
   "execution_count": 10,
   "metadata": {
    "collapsed": true
   },
   "outputs": [],
   "source": [
    "next_table['Country of Residence'] = next_table['Country of Residence'].map(lambda cell: cell.replace('korea,-south-/-republic', 'korea south republic'))"
   ]
  },
  {
   "cell_type": "code",
   "execution_count": 11,
   "metadata": {
    "collapsed": true
   },
   "outputs": [],
   "source": [
    "next_table['Country of Residence'] = next_table['Country of Residence'].map(lambda cell: cell.replace('myanmar-/-burma', 'myanmar burma'))"
   ]
  },
  {
   "cell_type": "code",
   "execution_count": 12,
   "metadata": {
    "collapsed": true
   },
   "outputs": [],
   "source": [
    "next_table['Country of Residence'] = next_table['Country of Residence'].map(lambda cell: cell.replace('cambodia-/-kampuchea', 'cambodia kampuchea'))"
   ]
  },
  {
   "cell_type": "code",
   "execution_count": 13,
   "metadata": {
    "collapsed": true
   },
   "outputs": [],
   "source": [
    "next_table['Country of Residence'] = next_table['Country of Residence'].map(lambda cell: cell.replace('cyprus,-northern', 'cyprus-northern'))"
   ]
  },
  {
   "cell_type": "code",
   "execution_count": 14,
   "metadata": {
    "collapsed": true
   },
   "outputs": [],
   "source": [
    "next_table['Country of Residence'] = next_table['Country of Residence'].map(lambda cell: cell.replace('cyprus,-southern', 'cyprus-southern'))"
   ]
  },
  {
   "cell_type": "code",
   "execution_count": 15,
   "metadata": {
    "collapsed": true
   },
   "outputs": [],
   "source": [
    "next_table.columns = ['Area of Destination or Origin' if x=='Geography' else x for x in next_table.columns]"
   ]
  },
  {
   "cell_type": "code",
   "execution_count": 16,
   "metadata": {
    "collapsed": true
   },
   "outputs": [],
   "source": [
    "next_table['Citizenship'] = next_table['Citizenship'].map(lambda cell: cell.replace(' ', '-'))"
   ]
  },
  {
   "cell_type": "code",
   "execution_count": 17,
   "metadata": {},
   "outputs": [
    {
     "data": {
      "text/plain": [
       "array(['all', 'british', 'non-british', 'british-or-british-overseas',\n",
       "       'not-british-or-british-overseas'], dtype=object)"
      ]
     },
     "execution_count": 17,
     "metadata": {},
     "output_type": "execute_result"
    }
   ],
   "source": [
    "next_table['Citizenship'].unique()"
   ]
  },
  {
   "cell_type": "code",
   "execution_count": 18,
   "metadata": {
    "collapsed": true
   },
   "outputs": [],
   "source": [
    "next_table = next_table[['Area of Destination or Origin','Year','Country of Residence','Migration Flow','Citizenship','Sex','Age','Measure Type','Value','CI','Unit']]"
   ]
  },
  {
   "cell_type": "code",
   "execution_count": 19,
   "metadata": {},
   "outputs": [
    {
     "data": {
      "text/html": [
       "<div>\n",
       "<style scoped>\n",
       "    .dataframe tbody tr th:only-of-type {\n",
       "        vertical-align: middle;\n",
       "    }\n",
       "\n",
       "    .dataframe tbody tr th {\n",
       "        vertical-align: top;\n",
       "    }\n",
       "\n",
       "    .dataframe thead th {\n",
       "        text-align: right;\n",
       "    }\n",
       "</style>\n",
       "<table border=\"1\" class=\"dataframe\">\n",
       "  <thead>\n",
       "    <tr style=\"text-align: right;\">\n",
       "      <th></th>\n",
       "      <th>Area of Destination or Origin</th>\n",
       "      <th>Year</th>\n",
       "      <th>Country of Residence</th>\n",
       "      <th>Migration Flow</th>\n",
       "      <th>Citizenship</th>\n",
       "      <th>Sex</th>\n",
       "      <th>Age</th>\n",
       "      <th>Measure Type</th>\n",
       "      <th>Value</th>\n",
       "      <th>CI</th>\n",
       "      <th>Unit</th>\n",
       "    </tr>\n",
       "  </thead>\n",
       "  <tbody>\n",
       "    <tr>\n",
       "      <th>1</th>\n",
       "      <td>K02000001</td>\n",
       "      <td>2016</td>\n",
       "      <td>all</td>\n",
       "      <td>inflow</td>\n",
       "      <td>all</td>\n",
       "      <td>T</td>\n",
       "      <td>all</td>\n",
       "      <td>Count</td>\n",
       "      <td>526.6</td>\n",
       "      <td>34.4</td>\n",
       "      <td>People (thousands)</td>\n",
       "    </tr>\n",
       "    <tr>\n",
       "      <th>3</th>\n",
       "      <td>K02000001</td>\n",
       "      <td>2016</td>\n",
       "      <td>all</td>\n",
       "      <td>inflow</td>\n",
       "      <td>all</td>\n",
       "      <td>T</td>\n",
       "      <td>agq/0-4</td>\n",
       "      <td>Count</td>\n",
       "      <td>8.1</td>\n",
       "      <td>3.2</td>\n",
       "      <td>People (thousands)</td>\n",
       "    </tr>\n",
       "    <tr>\n",
       "      <th>5</th>\n",
       "      <td>K02000001</td>\n",
       "      <td>2016</td>\n",
       "      <td>all</td>\n",
       "      <td>inflow</td>\n",
       "      <td>all</td>\n",
       "      <td>T</td>\n",
       "      <td>agq/5-9</td>\n",
       "      <td>Count</td>\n",
       "      <td>10.2</td>\n",
       "      <td>7.0</td>\n",
       "      <td>People (thousands)</td>\n",
       "    </tr>\n",
       "    <tr>\n",
       "      <th>7</th>\n",
       "      <td>K02000001</td>\n",
       "      <td>2016</td>\n",
       "      <td>all</td>\n",
       "      <td>inflow</td>\n",
       "      <td>all</td>\n",
       "      <td>T</td>\n",
       "      <td>agq/10-14</td>\n",
       "      <td>Count</td>\n",
       "      <td>7.9</td>\n",
       "      <td>3.9</td>\n",
       "      <td>People (thousands)</td>\n",
       "    </tr>\n",
       "    <tr>\n",
       "      <th>9</th>\n",
       "      <td>K02000001</td>\n",
       "      <td>2016</td>\n",
       "      <td>all</td>\n",
       "      <td>inflow</td>\n",
       "      <td>all</td>\n",
       "      <td>T</td>\n",
       "      <td>agq/15-19</td>\n",
       "      <td>Count</td>\n",
       "      <td>55.5</td>\n",
       "      <td>10.0</td>\n",
       "      <td>People (thousands)</td>\n",
       "    </tr>\n",
       "  </tbody>\n",
       "</table>\n",
       "</div>"
      ],
      "text/plain": [
       "  Area of Destination or Origin  Year Country of Residence Migration Flow  \\\n",
       "1                     K02000001  2016                  all         inflow   \n",
       "3                     K02000001  2016                  all         inflow   \n",
       "5                     K02000001  2016                  all         inflow   \n",
       "7                     K02000001  2016                  all         inflow   \n",
       "9                     K02000001  2016                  all         inflow   \n",
       "\n",
       "  Citizenship Sex        Age Measure Type  Value    CI                Unit  \n",
       "1         all   T        all        Count  526.6  34.4  People (thousands)  \n",
       "3         all   T    agq/0-4        Count    8.1   3.2  People (thousands)  \n",
       "5         all   T    agq/5-9        Count   10.2   7.0  People (thousands)  \n",
       "7         all   T  agq/10-14        Count    7.9   3.9  People (thousands)  \n",
       "9         all   T  agq/15-19        Count   55.5  10.0  People (thousands)  "
      ]
     },
     "execution_count": 19,
     "metadata": {},
     "output_type": "execute_result"
    }
   ],
   "source": [
    "next_table.head()"
   ]
  },
  {
   "cell_type": "code",
   "execution_count": 20,
   "metadata": {},
   "outputs": [
    {
     "data": {
      "text/html": [
       "<div>\n",
       "<style scoped>\n",
       "    .dataframe tbody tr th:only-of-type {\n",
       "        vertical-align: middle;\n",
       "    }\n",
       "\n",
       "    .dataframe tbody tr th {\n",
       "        vertical-align: top;\n",
       "    }\n",
       "\n",
       "    .dataframe thead th {\n",
       "        text-align: right;\n",
       "    }\n",
       "</style>\n",
       "<table border=\"1\" class=\"dataframe\">\n",
       "  <thead>\n",
       "    <tr style=\"text-align: right;\">\n",
       "      <th></th>\n",
       "      <th>Area of Destination or Origin</th>\n",
       "      <th>Year</th>\n",
       "      <th>Country of Residence</th>\n",
       "      <th>Migration Flow</th>\n",
       "      <th>Citizenship</th>\n",
       "      <th>Sex</th>\n",
       "      <th>Age</th>\n",
       "      <th>Measure Type</th>\n",
       "      <th>Value</th>\n",
       "      <th>CI</th>\n",
       "      <th>Unit</th>\n",
       "    </tr>\n",
       "  </thead>\n",
       "  <tbody>\n",
       "    <tr>\n",
       "      <th>49479</th>\n",
       "      <td>K02000001</td>\n",
       "      <td>2016</td>\n",
       "      <td>zimbabwe</td>\n",
       "      <td>balance</td>\n",
       "      <td>not-british-or-british-overseas</td>\n",
       "      <td>F</td>\n",
       "      <td>agq/55-59</td>\n",
       "      <td>Count</td>\n",
       "      <td>0.1</td>\n",
       "      <td>0.1</td>\n",
       "      <td>People (thousands)</td>\n",
       "    </tr>\n",
       "    <tr>\n",
       "      <th>49481</th>\n",
       "      <td>K02000001</td>\n",
       "      <td>2016</td>\n",
       "      <td>zimbabwe</td>\n",
       "      <td>balance</td>\n",
       "      <td>not-british-or-british-overseas</td>\n",
       "      <td>F</td>\n",
       "      <td>ag1/19-21</td>\n",
       "      <td>Count</td>\n",
       "      <td>0.2</td>\n",
       "      <td>0.3</td>\n",
       "      <td>People (thousands)</td>\n",
       "    </tr>\n",
       "    <tr>\n",
       "      <th>49483</th>\n",
       "      <td>K02000001</td>\n",
       "      <td>2016</td>\n",
       "      <td>zimbabwe</td>\n",
       "      <td>balance</td>\n",
       "      <td>not-british-or-british-overseas</td>\n",
       "      <td>F</td>\n",
       "      <td>ag1/22-59</td>\n",
       "      <td>Count</td>\n",
       "      <td>0.1</td>\n",
       "      <td>0.1</td>\n",
       "      <td>People (thousands)</td>\n",
       "    </tr>\n",
       "    <tr>\n",
       "      <th>49485</th>\n",
       "      <td>K02000001</td>\n",
       "      <td>2016</td>\n",
       "      <td>zimbabwe</td>\n",
       "      <td>balance</td>\n",
       "      <td>not-british-or-british-overseas</td>\n",
       "      <td>F</td>\n",
       "      <td>ag2/15-24</td>\n",
       "      <td>Count</td>\n",
       "      <td>0.2</td>\n",
       "      <td>0.3</td>\n",
       "      <td>People (thousands)</td>\n",
       "    </tr>\n",
       "    <tr>\n",
       "      <th>49487</th>\n",
       "      <td>K02000001</td>\n",
       "      <td>2016</td>\n",
       "      <td>zimbabwe</td>\n",
       "      <td>balance</td>\n",
       "      <td>not-british-or-british-overseas</td>\n",
       "      <td>F</td>\n",
       "      <td>ag2/45-59</td>\n",
       "      <td>Count</td>\n",
       "      <td>0.1</td>\n",
       "      <td>0.1</td>\n",
       "      <td>People (thousands)</td>\n",
       "    </tr>\n",
       "  </tbody>\n",
       "</table>\n",
       "</div>"
      ],
      "text/plain": [
       "      Area of Destination or Origin  Year Country of Residence Migration Flow  \\\n",
       "49479                     K02000001  2016             zimbabwe        balance   \n",
       "49481                     K02000001  2016             zimbabwe        balance   \n",
       "49483                     K02000001  2016             zimbabwe        balance   \n",
       "49485                     K02000001  2016             zimbabwe        balance   \n",
       "49487                     K02000001  2016             zimbabwe        balance   \n",
       "\n",
       "                           Citizenship Sex        Age Measure Type  Value  \\\n",
       "49479  not-british-or-british-overseas   F  agq/55-59        Count    0.1   \n",
       "49481  not-british-or-british-overseas   F  ag1/19-21        Count    0.2   \n",
       "49483  not-british-or-british-overseas   F  ag1/22-59        Count    0.1   \n",
       "49485  not-british-or-british-overseas   F  ag2/15-24        Count    0.2   \n",
       "49487  not-british-or-british-overseas   F  ag2/45-59        Count    0.1   \n",
       "\n",
       "        CI                Unit  \n",
       "49479  0.1  People (thousands)  \n",
       "49481  0.3  People (thousands)  \n",
       "49483  0.1  People (thousands)  \n",
       "49485  0.3  People (thousands)  \n",
       "49487  0.1  People (thousands)  "
      ]
     },
     "execution_count": 20,
     "metadata": {},
     "output_type": "execute_result"
    }
   ],
   "source": [
    "next_table.tail()"
   ]
  },
  {
   "cell_type": "code",
   "execution_count": 21,
   "metadata": {
    "collapsed": true
   },
   "outputs": [],
   "source": [
    "out = Path('out')\n",
    "out.mkdir(exist_ok=True)\n",
    "next_table.to_csv(out / 'migration_4.01.csv', index = False)"
   ]
  },
  {
   "cell_type": "code",
   "execution_count": 22,
   "metadata": {
    "collapsed": true
   },
   "outputs": [],
   "source": [
    "writeMetadata(metadata, 'ONS LTIM Passenger Survey 4.01', 'Migration')"
   ]
  },
  {
   "cell_type": "code",
   "execution_count": null,
   "metadata": {
    "collapsed": true
   },
   "outputs": [],
   "source": []
  }
 ],
 "metadata": {
  "kernelspec": {
   "display_name": "Python 3",
   "language": "python",
   "name": "python3"
  },
  "language_info": {
   "codemirror_mode": {
    "name": "ipython",
    "version": 3
   },
   "file_extension": ".py",
   "mimetype": "text/x-python",
   "name": "python",
   "nbconvert_exporter": "python",
   "pygments_lexer": "ipython3",
   "version": "3.6.3"
  }
 },
 "nbformat": 4,
 "nbformat_minor": 2
}
